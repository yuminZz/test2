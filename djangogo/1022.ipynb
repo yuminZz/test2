{
 "cells": [
  {
   "cell_type": "code",
   "execution_count": 11,
   "id": "bbaaec92",
   "metadata": {},
   "outputs": [
    {
     "name": "stdout",
     "output_type": "stream",
     "text": [
      "['book', 'coin', 'bus', 'greece']\n"
     ]
    }
   ],
   "source": [
    "oops = [\"book\", \"coin\", \"bus\", \"greece\"]\n",
    "print(oops)\n",
    "\n",
    "#         0        1      2        3"
   ]
  },
  {
   "cell_type": "code",
   "execution_count": 12,
   "id": "d9128fdc",
   "metadata": {},
   "outputs": [
    {
     "name": "stdout",
     "output_type": "stream",
     "text": [
      "greece\n"
     ]
    }
   ],
   "source": [
    "#-1表示最後一個\n",
    "\n",
    "print(oops[-1])"
   ]
  },
  {
   "cell_type": "code",
   "execution_count": 13,
   "id": "63e62581",
   "metadata": {},
   "outputs": [
    {
     "name": "stdout",
     "output_type": "stream",
     "text": [
      "book\n"
     ]
    }
   ],
   "source": [
    "print(oops[0])"
   ]
  },
  {
   "cell_type": "code",
   "execution_count": 14,
   "id": "5ff5dd95",
   "metadata": {},
   "outputs": [
    {
     "name": "stdout",
     "output_type": "stream",
     "text": [
      "coin\n"
     ]
    }
   ],
   "source": [
    "print(oops[1])"
   ]
  },
  {
   "cell_type": "code",
   "execution_count": 15,
   "id": "7444fd6a",
   "metadata": {},
   "outputs": [
    {
     "name": "stdout",
     "output_type": "stream",
     "text": [
      "bus\n"
     ]
    }
   ],
   "source": [
    "print(oops[2])"
   ]
  },
  {
   "cell_type": "markdown",
   "id": "ea6bce2b",
   "metadata": {},
   "source": [
    "# my_list[start(開始的index值):(結束的index值):sep(間隔)]"
   ]
  },
  {
   "cell_type": "code",
   "execution_count": 23,
   "id": "17fdd965",
   "metadata": {},
   "outputs": [
    {
     "name": "stdout",
     "output_type": "stream",
     "text": [
      "['book', 'coin', 'bus']\n"
     ]
    }
   ],
   "source": [
    "#結束值要減1\n",
    "\n",
    "print(oops[0:3:1])"
   ]
  },
  {
   "cell_type": "code",
   "execution_count": 19,
   "id": "505b127d",
   "metadata": {},
   "outputs": [
    {
     "name": "stdout",
     "output_type": "stream",
     "text": [
      "['book', 'coin', 'bus']\n"
     ]
    }
   ],
   "source": [
    "print(oops[:3])"
   ]
  },
  {
   "cell_type": "code",
   "execution_count": 20,
   "id": "e7d87392",
   "metadata": {},
   "outputs": [
    {
     "name": "stdout",
     "output_type": "stream",
     "text": [
      "['coin', 'bus', 'greece']\n"
     ]
    }
   ],
   "source": [
    "print(oops[1:])"
   ]
  },
  {
   "cell_type": "markdown",
   "id": "da6b9f24",
   "metadata": {},
   "source": [
    "# 加入元素 append"
   ]
  },
  {
   "cell_type": "code",
   "execution_count": 21,
   "id": "c27ce779",
   "metadata": {},
   "outputs": [],
   "source": [
    "oops.append(\"low\")"
   ]
  },
  {
   "cell_type": "code",
   "execution_count": 22,
   "id": "5e34fd85",
   "metadata": {},
   "outputs": [
    {
     "name": "stdout",
     "output_type": "stream",
     "text": [
      "['book', 'coin', 'bus', 'greece', 'low']\n"
     ]
    }
   ],
   "source": [
    "print(oops)"
   ]
  },
  {
   "cell_type": "markdown",
   "id": "ace27a2c",
   "metadata": {},
   "source": [
    "# 加入元素且指定位置 insert"
   ]
  },
  {
   "cell_type": "code",
   "execution_count": 24,
   "id": "c4aa5344",
   "metadata": {},
   "outputs": [],
   "source": [
    "oops.insert(2, \"high\")"
   ]
  },
  {
   "cell_type": "code",
   "execution_count": 25,
   "id": "ee50111a",
   "metadata": {},
   "outputs": [
    {
     "name": "stdout",
     "output_type": "stream",
     "text": [
      "['book', 'coin', 'high', 'bus', 'greece', 'low']\n"
     ]
    }
   ],
   "source": [
    "print(oops)"
   ]
  },
  {
   "cell_type": "markdown",
   "id": "6ad3234a",
   "metadata": {},
   "source": [
    "# 合併兩個元素 extend"
   ]
  },
  {
   "cell_type": "code",
   "execution_count": 26,
   "id": "aa57fb8a",
   "metadata": {},
   "outputs": [],
   "source": [
    "#先宣告一個新的list\n",
    "\n",
    "nkust = [\"pig\", \"cat\", \"dog\"]"
   ]
  },
  {
   "cell_type": "code",
   "execution_count": 27,
   "id": "aa278212",
   "metadata": {},
   "outputs": [],
   "source": [
    "oops.extend(nkust)"
   ]
  },
  {
   "cell_type": "code",
   "execution_count": 28,
   "id": "06cb9ba2",
   "metadata": {},
   "outputs": [
    {
     "name": "stdout",
     "output_type": "stream",
     "text": [
      "['book', 'coin', 'high', 'bus', 'greece', 'low', 'pig', 'cat', 'dog']\n"
     ]
    }
   ],
   "source": [
    "print(oops)"
   ]
  },
  {
   "cell_type": "code",
   "execution_count": 29,
   "id": "72775bc5",
   "metadata": {},
   "outputs": [],
   "source": [
    "#append給單一元素用的，extend給list用的，insert兩個都可以用且可以指定位置"
   ]
  },
  {
   "cell_type": "code",
   "execution_count": 30,
   "id": "d5b0062d",
   "metadata": {},
   "outputs": [
    {
     "name": "stdout",
     "output_type": "stream",
     "text": [
      "['book', 'high', 'bus', 'greece', 'low', 'pig', 'cat', 'dog']\n"
     ]
    }
   ],
   "source": [
    "oops.remove(\"coin\")\n",
    "print(oops)"
   ]
  },
  {
   "cell_type": "code",
   "execution_count": 31,
   "id": "39d2bcbc",
   "metadata": {},
   "outputs": [],
   "source": [
    "#移除list最後一個元素"
   ]
  },
  {
   "cell_type": "code",
   "execution_count": 32,
   "id": "8177984b",
   "metadata": {},
   "outputs": [],
   "source": [
    "new = oops.pop()"
   ]
  },
  {
   "cell_type": "code",
   "execution_count": 33,
   "id": "c695fb58",
   "metadata": {},
   "outputs": [
    {
     "name": "stdout",
     "output_type": "stream",
     "text": [
      "dog\n"
     ]
    }
   ],
   "source": [
    "print(new)"
   ]
  },
  {
   "cell_type": "code",
   "execution_count": 34,
   "id": "99f1f848",
   "metadata": {},
   "outputs": [
    {
     "name": "stdout",
     "output_type": "stream",
     "text": [
      "['book', 'high', 'bus', 'greece', 'low', 'pig', 'cat']\n"
     ]
    }
   ],
   "source": [
    "print(oops)"
   ]
  },
  {
   "cell_type": "code",
   "execution_count": 35,
   "id": "a2a61095",
   "metadata": {},
   "outputs": [],
   "source": [
    "#用remove讓最後一個元素移除"
   ]
  },
  {
   "cell_type": "code",
   "execution_count": 36,
   "id": "e2a85243",
   "metadata": {},
   "outputs": [],
   "source": [
    "#但用remove要指定元素\n",
    "\n",
    "test = oops.remove('greece')"
   ]
  },
  {
   "cell_type": "code",
   "execution_count": 37,
   "id": "d58cbd19",
   "metadata": {},
   "outputs": [
    {
     "name": "stdout",
     "output_type": "stream",
     "text": [
      "None\n"
     ]
    }
   ],
   "source": [
    "print(test)"
   ]
  },
  {
   "cell_type": "code",
   "execution_count": 38,
   "id": "d3b5adf8",
   "metadata": {},
   "outputs": [
    {
     "name": "stdout",
     "output_type": "stream",
     "text": [
      "['book', 'high', 'bus', 'low', 'pig', 'cat']\n"
     ]
    }
   ],
   "source": [
    "print(oops)"
   ]
  },
  {
   "cell_type": "code",
   "execution_count": null,
   "id": "c7f8d373",
   "metadata": {},
   "outputs": [],
   "source": []
  }
 ],
 "metadata": {
  "kernelspec": {
   "display_name": "Python 3 (ipykernel)",
   "language": "python",
   "name": "python3"
  },
  "language_info": {
   "codemirror_mode": {
    "name": "ipython",
    "version": 3
   },
   "file_extension": ".py",
   "mimetype": "text/x-python",
   "name": "python",
   "nbconvert_exporter": "python",
   "pygments_lexer": "ipython3",
   "version": "3.11.5"
  }
 },
 "nbformat": 4,
 "nbformat_minor": 5
}
