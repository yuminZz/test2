{
 "cells": [
  {
   "cell_type": "code",
   "execution_count": 7,
   "id": "98968201",
   "metadata": {},
   "outputs": [
    {
     "name": "stdout",
     "output_type": "stream",
     "text": [
      "請輸入數字，以空白分隔：45 90 34 21 10 13\n",
      "輸入的數字： [45, 90, 34, 21, 10, 13]\n",
      "排序後： [10, 13, 21, 34, 45, 90]\n"
     ]
    }
   ],
   "source": [
    "#只是試試看的\n",
    "\n",
    "numbers = list(map(int, input(\"請輸入數字，以空白分隔：\").split()))\n",
    "\n",
    "print(\"輸入的數字：\", numbers)\n",
    "\n",
    "numbers.sort()\n",
    "\n",
    "print(\"排序後：\", numbers)"
   ]
  },
  {
   "cell_type": "code",
   "execution_count": 6,
   "id": "a545a6d3",
   "metadata": {},
   "outputs": [
    {
     "name": "stdout",
     "output_type": "stream",
     "text": [
      "請輸入數字的個數：6\n",
      "請輸入 6 個數字，以空白分隔：90 76 40 13 17 8\n",
      "輸入的數字：\n",
      "90 76 40 13 17 8\n",
      "排序後的數字：\n",
      "8 13 17 40 76 90\n",
      "\n",
      "請輸入數字的個數：8\n",
      "請輸入 8 個數字，以空白分隔：30 46 937 84 61 93 67 1\n",
      "輸入的數字：\n",
      "30 46 937 84 61 93 67 1\n",
      "排序後的數字：\n",
      "1 30 46 61 67 84 93 937\n",
      "\n",
      "第 1 組排序後的清單：[8, 13, 17, 40, 76, 90]\n",
      "第 2 組排序後的清單：[1, 30, 46, 61, 67, 84, 93, 937]\n"
     ]
    }
   ],
   "source": [
    "#答案在這裡\n",
    "\n",
    "sorted_lists = []       #建立空的list\n",
    "\n",
    "for i in range(2):      #for迴圈執行兩次數字排序\n",
    "\n",
    "    n = int(input(\"請輸入數字的個數：\"))     #輸入數字數量\n",
    "\n",
    "    numbers = [int(x) for x in input(f\"請輸入 {n} 個數字，以空白分隔：\").split()] #使用者輸入n個數字 且用空白分隔 轉換為整數的list\n",
    "\n",
    "\n",
    "    print(\"輸入的數字：\")    #列出使用者輸入的數字\n",
    "    print(\" \".join(map(str, numbers)))    #用join連接成一個單一的字串，並在每個元素之間插入指定的分隔符號\n",
    "\n",
    "    \n",
    "    numbers.sort()    #排列由小到大\n",
    "    sorted_lists.append(numbers)  #將排序後的list用sorted_lists接住\n",
    "\n",
    "    \n",
    "    print(\"排序後的數字：\")     #列出排序後的數字\n",
    "    print(\" \".join(map(str, numbers)))    #將數字列表numbers中的所有元素轉換為字串，並將它們連接成一行，用空格分隔，然後印出這一行的結果\n",
    "    print()  #空行分隔不同次的輸入結果\n",
    "\n",
    "    \n",
    "#再單獨列出每個排序後的清單\n",
    "for i, sorted_list in enumerate(sorted_lists, start=1):\n",
    "    print(f\"第 {i} 組排序後的清單：{sorted_list}\")"
   ]
  },
  {
   "cell_type": "code",
   "execution_count": 9,
   "id": "c5bc0879",
   "metadata": {},
   "outputs": [
    {
     "name": "stdout",
     "output_type": "stream",
     "text": [
      "請輸入要查詢熱量的食物：香蕉\n",
      "香蕉 的卡路里是：89大卡\n"
     ]
    }
   ],
   "source": [
    "# 建立食物與卡路里的字典\n",
    "dic = {\n",
    "    \"雞蛋\": \"130大卡\",\n",
    "    \"香蕉\": \"89大卡\",\n",
    "    \"麵包\":\"300大卡\",\n",
    "    \"pizza\": \"4000大卡\",\n",
    "    \"一杯牛奶\": \"100大卡\",\n",
    "    \"一杯紅茶牛奶\": \"200大卡\",}\n",
    "\n",
    "food = input(\"請輸入要查詢熱量的食物：\").strip().lower()     #輸入食物名稱進行查詢，使用.strip().lower() 處理使用者輸入，能忽略大小寫(輸入PIZZA可以找到pizza)和空格的差異，讓查詢更準確\n",
    "\n",
    "\n",
    "if food in dic:\n",
    "    print(f\"{food} 的卡路里是：{dic[food]}\")      #查詢字典dic\n",
    "else:\n",
    "    print(\"wrong input\")"
   ]
  },
  {
   "cell_type": "code",
   "execution_count": null,
   "id": "b4e9bfdf",
   "metadata": {},
   "outputs": [],
   "source": []
  }
 ],
 "metadata": {
  "kernelspec": {
   "display_name": "Python 3 (ipykernel)",
   "language": "python",
   "name": "python3"
  },
  "language_info": {
   "codemirror_mode": {
    "name": "ipython",
    "version": 3
   },
   "file_extension": ".py",
   "mimetype": "text/x-python",
   "name": "python",
   "nbconvert_exporter": "python",
   "pygments_lexer": "ipython3",
   "version": "3.11.5"
  }
 },
 "nbformat": 4,
 "nbformat_minor": 5
}
