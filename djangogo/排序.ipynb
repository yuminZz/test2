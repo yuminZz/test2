{
 "cells": [
  {
   "cell_type": "code",
   "execution_count": 2,
   "id": "3be7c37c",
   "metadata": {},
   "outputs": [],
   "source": [
    "mylist = [11, 6, 3, 9, 2, 1]"
   ]
  },
  {
   "cell_type": "code",
   "execution_count": 3,
   "id": "632fd34a",
   "metadata": {},
   "outputs": [],
   "source": [
    "#用一個新的變數接住回傳的有序串列\n",
    "\n",
    "sor_mylist = sorted(mylist)"
   ]
  },
  {
   "cell_type": "code",
   "execution_count": 4,
   "id": "c1bfe295",
   "metadata": {},
   "outputs": [
    {
     "name": "stdout",
     "output_type": "stream",
     "text": [
      "[1, 2, 3, 6, 9, 11]\n"
     ]
    }
   ],
   "source": [
    "print(sor_mylist)"
   ]
  },
  {
   "cell_type": "code",
   "execution_count": 5,
   "id": "cd1ea02a",
   "metadata": {},
   "outputs": [
    {
     "name": "stdout",
     "output_type": "stream",
     "text": [
      "[11, 6, 3, 9, 2, 1]\n"
     ]
    }
   ],
   "source": [
    "print(mylist)"
   ]
  },
  {
   "cell_type": "code",
   "execution_count": 6,
   "id": "d91bcd5a",
   "metadata": {},
   "outputs": [],
   "source": [
    "#True大排到小，False小排到大\n",
    "\n",
    "sor_mylist = sorted(mylist, reverse = True)"
   ]
  },
  {
   "cell_type": "code",
   "execution_count": 7,
   "id": "56f85fed",
   "metadata": {},
   "outputs": [
    {
     "name": "stdout",
     "output_type": "stream",
     "text": [
      "[11, 9, 6, 3, 2, 1]\n"
     ]
    }
   ],
   "source": [
    "print(sor_mylist)"
   ]
  },
  {
   "cell_type": "markdown",
   "id": "ecd3ad18",
   "metadata": {},
   "source": [
    "# 串列的排序"
   ]
  },
  {
   "cell_type": "code",
   "execution_count": 8,
   "id": "eb8895e2",
   "metadata": {},
   "outputs": [
    {
     "name": "stdout",
     "output_type": "stream",
     "text": [
      "['hoshi', 'jun', 'mingyu', 'the8', 'wonwoo', 'woozi']\n"
     ]
    }
   ],
   "source": [
    "svtList = [\"jun\", \"hoshi\", \"wonwoo\", \"woozi\", \"the8\", \"mingyu\"]\n",
    "sor_svt = sorted(svtList)\n",
    "\n",
    "print(sor_svt)"
   ]
  },
  {
   "cell_type": "code",
   "execution_count": 9,
   "id": "48883d5d",
   "metadata": {},
   "outputs": [
    {
     "name": "stdout",
     "output_type": "stream",
     "text": [
      "['hoshi', 'jun', 'mingyu', 'the8', 'wonwoo', 'woozi']\n"
     ]
    }
   ],
   "source": [
    "sor_svt2 = sorted(svtList, reverse = False)\n",
    "\n",
    "print(sor_svt2)"
   ]
  },
  {
   "cell_type": "code",
   "execution_count": 10,
   "id": "d9e2ecdd",
   "metadata": {},
   "outputs": [
    {
     "name": "stdout",
     "output_type": "stream",
     "text": [
      "['woozi', 'wonwoo', 'the8', 'mingyu', 'jun', 'hoshi']\n"
     ]
    }
   ],
   "source": [
    "sor_svt3 = sorted(svtList, reverse = True)\n",
    "\n",
    "print(sor_svt3)"
   ]
  },
  {
   "cell_type": "markdown",
   "id": "77b54359",
   "metadata": {},
   "source": [
    "# 字典的排序"
   ]
  },
  {
   "cell_type": "code",
   "execution_count": 11,
   "id": "accecf98",
   "metadata": {},
   "outputs": [],
   "source": [
    "dic = {\"98\":\"vernon\", \"96\":\"jun\", \"97\":\"the8\", \"99\":\"dino\", \"95\":\"scoups\"}"
   ]
  },
  {
   "cell_type": "code",
   "execution_count": 12,
   "id": "543d8c76",
   "metadata": {},
   "outputs": [],
   "source": [
    "#如果用sorted"
   ]
  },
  {
   "cell_type": "code",
   "execution_count": 13,
   "id": "963cacb7",
   "metadata": {},
   "outputs": [
    {
     "name": "stdout",
     "output_type": "stream",
     "text": [
      "['95', '96', '97', '98', '99']\n"
     ]
    }
   ],
   "source": [
    "sor_dic = sorted(dic)\n",
    "print(sor_dic)"
   ]
  },
  {
   "cell_type": "code",
   "execution_count": 14,
   "id": "f3cec769",
   "metadata": {},
   "outputs": [],
   "source": [
    "#直接sor_dic = sorted(dic)的話只回傳key值，要加for迴圈才有value值"
   ]
  },
  {
   "cell_type": "code",
   "execution_count": 15,
   "id": "40b3374d",
   "metadata": {},
   "outputs": [
    {
     "name": "stdout",
     "output_type": "stream",
     "text": [
      "95:scoups\n",
      "96:jun\n",
      "97:the8\n",
      "98:vernon\n",
      "99:dino\n"
     ]
    }
   ],
   "source": [
    "#用 + 來連結dic的year\n",
    "\n",
    "for year in sor_dic:\n",
    "    print(year + \":\" + dic[year])"
   ]
  },
  {
   "cell_type": "code",
   "execution_count": 16,
   "id": "6e3d4503",
   "metadata": {},
   "outputs": [
    {
     "name": "stdout",
     "output_type": "stream",
     "text": [
      "dict_keys(['98', '96', '97', '99', '95'])\n"
     ]
    }
   ],
   "source": [
    "key_dic = dic.keys()\n",
    "\n",
    "print(key_dic)\n",
    "\n",
    "#沒有排序"
   ]
  },
  {
   "cell_type": "code",
   "execution_count": 17,
   "id": "8b09d2de",
   "metadata": {},
   "outputs": [
    {
     "name": "stdout",
     "output_type": "stream",
     "text": [
      "dict_values(['vernon', 'jun', 'the8', 'dino', 'scoups'])\n"
     ]
    }
   ],
   "source": [
    "key_value = dic.values()\n",
    "print(key_value)\n",
    "\n",
    "#沒有排序"
   ]
  },
  {
   "cell_type": "code",
   "execution_count": 18,
   "id": "6a021a3e",
   "metadata": {},
   "outputs": [
    {
     "name": "stdout",
     "output_type": "stream",
     "text": [
      "dict_items([('98', 'vernon'), ('96', 'jun'), ('97', 'the8'), ('99', 'dino'), ('95', 'scoups')])\n"
     ]
    }
   ],
   "source": [
    "item_dic = dic.items()\n",
    "print(item_dic)\n",
    "\n",
    "#轉換成新的東西，tuple格式\n",
    "#沒有排序"
   ]
  },
  {
   "cell_type": "code",
   "execution_count": 19,
   "id": "17f34e57",
   "metadata": {},
   "outputs": [
    {
     "name": "stdout",
     "output_type": "stream",
     "text": [
      "[('95', 'scoups'), ('96', 'jun'), ('97', 'the8'), ('98', 'vernon'), ('99', 'dino')]\n"
     ]
    }
   ],
   "source": [
    "sor_item = sorted(item_dic)\n",
    "\n",
    "print(sor_item)\n",
    "\n",
    "#由小到大排列出來"
   ]
  },
  {
   "cell_type": "markdown",
   "id": "004fc5a1",
   "metadata": {},
   "source": [
    "# sorted() v.s. lst.sort()"
   ]
  },
  {
   "cell_type": "code",
   "execution_count": 20,
   "id": "243cdcb3",
   "metadata": {},
   "outputs": [
    {
     "name": "stdout",
     "output_type": "stream",
     "text": [
      "[1, 2, 3, 6, 9, 11]\n"
     ]
    }
   ],
   "source": [
    "mylist = [11, 6, 3, 9, 2, 1]\n",
    "\n",
    "print(sorted(mylist))\n",
    "\n",
    "#因為有回傳值"
   ]
  },
  {
   "cell_type": "code",
   "execution_count": 21,
   "id": "719fda1b",
   "metadata": {},
   "outputs": [
    {
     "name": "stdout",
     "output_type": "stream",
     "text": [
      "[11, 6, 3, 9, 2, 1]\n"
     ]
    }
   ],
   "source": [
    "print(mylist)"
   ]
  },
  {
   "cell_type": "code",
   "execution_count": 22,
   "id": "c03c2dab",
   "metadata": {},
   "outputs": [],
   "source": [
    "#sorted不會改變原本的排序"
   ]
  },
  {
   "cell_type": "code",
   "execution_count": 23,
   "id": "2e1862ac",
   "metadata": {},
   "outputs": [
    {
     "name": "stdout",
     "output_type": "stream",
     "text": [
      "<built-in method sort of list object at 0x000001B758305340>\n"
     ]
    }
   ],
   "source": [
    "print(mylist.sort)\n",
    "\n",
    "#沒東西"
   ]
  },
  {
   "cell_type": "code",
   "execution_count": 24,
   "id": "d80cd0ac",
   "metadata": {},
   "outputs": [
    {
     "name": "stdout",
     "output_type": "stream",
     "text": [
      "None\n"
     ]
    }
   ],
   "source": [
    "print(mylist.sort())"
   ]
  },
  {
   "cell_type": "code",
   "execution_count": 25,
   "id": "bbb9144f",
   "metadata": {},
   "outputs": [
    {
     "name": "stdout",
     "output_type": "stream",
     "text": [
      "[1, 2, 3, 6, 9, 11]\n"
     ]
    }
   ],
   "source": [
    "print(mylist)\n",
    "\n",
    "#因為上一條已經排序"
   ]
  },
  {
   "cell_type": "markdown",
   "id": "27033738",
   "metadata": {},
   "source": [
    "# 除錯"
   ]
  },
  {
   "cell_type": "code",
   "execution_count": 28,
   "id": "6f06fb9f",
   "metadata": {},
   "outputs": [
    {
     "name": "stdout",
     "output_type": "stream",
     "text": [
      "輸入數字a: 80\n",
      "輸入數字b: 4\n",
      "20.0\n"
     ]
    }
   ],
   "source": [
    "try:\n",
    "    a = int(input(\"輸入數字a: \"))\n",
    "    b = int(input(\"輸入數字b: \"))\n",
    "    print(a/b)\n",
    "except ZeroDivisionError:\n",
    "    print(\"Cannot divide by 0!\")\n",
    "except:\n",
    "    print(\"wrong input\")"
   ]
  },
  {
   "cell_type": "code",
   "execution_count": 30,
   "id": "77aead57",
   "metadata": {},
   "outputs": [
    {
     "name": "stdout",
     "output_type": "stream",
     "text": [
      "輸入數字a: 5\n",
      "輸入數字b: 0\n",
      "Cannot divide by 0!\n",
      "program finished\n"
     ]
    }
   ],
   "source": [
    "try:\n",
    "    a = int(input(\"輸入數字a: \"))\n",
    "    b = int(input(\"輸入數字b: \"))\n",
    "    c = a/b\n",
    "except ZeroDivisionError:\n",
    "    print(\"Cannot divide by 0!\")\n",
    "except:\n",
    "    print(\"wrong input\")\n",
    "else:\n",
    "    print(\"The answer is\" + str(c))\n",
    "finally:\n",
    "    print(\"program finished\")"
   ]
  },
  {
   "cell_type": "code",
   "execution_count": null,
   "id": "5ee1b88a",
   "metadata": {},
   "outputs": [],
   "source": []
  }
 ],
 "metadata": {
  "kernelspec": {
   "display_name": "Python 3 (ipykernel)",
   "language": "python",
   "name": "python3"
  },
  "language_info": {
   "codemirror_mode": {
    "name": "ipython",
    "version": 3
   },
   "file_extension": ".py",
   "mimetype": "text/x-python",
   "name": "python",
   "nbconvert_exporter": "python",
   "pygments_lexer": "ipython3",
   "version": "3.11.5"
  }
 },
 "nbformat": 4,
 "nbformat_minor": 5
}
