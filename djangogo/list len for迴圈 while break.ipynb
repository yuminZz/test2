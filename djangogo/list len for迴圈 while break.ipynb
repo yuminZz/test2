{
 "cells": [
  {
   "cell_type": "code",
   "execution_count": 1,
   "id": "db8f6906",
   "metadata": {},
   "outputs": [
    {
     "name": "stdout",
     "output_type": "stream",
     "text": [
      "0 1 2 3 4 5 "
     ]
    }
   ],
   "source": [
    "#第一種寫法\n",
    "\n",
    "list_a = [0, 1, 2, 3, 4, 5]\n",
    "for i in list_a:\n",
    "    print(i, end=\" \")"
   ]
  },
  {
   "cell_type": "code",
   "execution_count": 2,
   "id": "dfd4bc26",
   "metadata": {},
   "outputs": [
    {
     "data": {
      "text/plain": [
       "4"
      ]
     },
     "execution_count": 2,
     "metadata": {},
     "output_type": "execute_result"
    }
   ],
   "source": [
    "#len回應迴圈的長度\n",
    "\n",
    "thebeats = [\"John\", \"Paul\", \"Ringo\", \"George\"]\n",
    "len(thebeats)"
   ]
  },
  {
   "cell_type": "code",
   "execution_count": 3,
   "id": "de43d167",
   "metadata": {},
   "outputs": [
    {
     "name": "stdout",
     "output_type": "stream",
     "text": [
      "0\n",
      "John\n",
      "1\n",
      "Paul\n",
      "2\n",
      "Ringo\n",
      "3\n",
      "George\n"
     ]
    }
   ],
   "source": [
    "#第二種寫法\n",
    "\n",
    "for i in range(len(thebeats)):\n",
    "    print(i)\n",
    "    print(thebeats[i])"
   ]
  },
  {
   "cell_type": "code",
   "execution_count": 6,
   "id": "d42e7941",
   "metadata": {},
   "outputs": [
    {
     "name": "stdout",
     "output_type": "stream",
     "text": [
      "0\n",
      "1\n",
      "2\n",
      "3\n",
      "4\n",
      "5\n",
      "6\n",
      "7\n",
      "8\n",
      "9\n"
     ]
    }
   ],
   "source": [
    "for a in range(10):\n",
    "    print(a)"
   ]
  },
  {
   "cell_type": "code",
   "execution_count": 11,
   "id": "d6a112e5",
   "metadata": {},
   "outputs": [
    {
     "name": "stdout",
     "output_type": "stream",
     "text": [
      "0 1 2 3 4 5 6 7 8 9 \n",
      "20 18 16 14 12 10 8 6 4 "
     ]
    }
   ],
   "source": [
    "for a in range(10):\n",
    "    print(a, end = \" \")\n",
    "    \n",
    "print()    #換行\n",
    "\n",
    "#從20開始，到2結束，每次遞減2\n",
    "#但range結束值不包含2，所以只到4\n",
    "for q in range(20, 2, -2):\n",
    "    print(q, end = \" \")"
   ]
  },
  {
   "cell_type": "markdown",
   "id": "2d0f5d87",
   "metadata": {},
   "source": [
    "# 九九乘法表"
   ]
  },
  {
   "cell_type": "code",
   "execution_count": null,
   "id": "0caa16c5",
   "metadata": {},
   "outputs": [],
   "source": [
    "for a in range(1, 10):    #外部迴圈\n",
    "    for j in range(1, 10):     #內部迴圈\n",
    "        if j == 9:                #判斷j有沒有=9\n",
    "            print(\"\\t\", a*j)      #j == 9時換行"
   ]
  },
  {
   "cell_type": "code",
   "execution_count": 12,
   "id": "3c22e840",
   "metadata": {},
   "outputs": [
    {
     "name": "stdout",
     "output_type": "stream",
     "text": [
      "\t 1\t 2\t 3\t 4\t 5\t 6\t 7\t 8\t 9\n",
      "\t 2\t 4\t 6\t 8\t 10\t 12\t 14\t 16\t 18\n",
      "\t 3\t 6\t 9\t 12\t 15\t 18\t 21\t 24\t 27\n",
      "\t 4\t 8\t 12\t 16\t 20\t 24\t 28\t 32\t 36\n",
      "\t 5\t 10\t 15\t 20\t 25\t 30\t 35\t 40\t 45\n",
      "\t 6\t 12\t 18\t 24\t 30\t 36\t 42\t 48\t 54\n",
      "\t 7\t 14\t 21\t 28\t 35\t 42\t 49\t 56\t 63\n",
      "\t 8\t 16\t 24\t 32\t 40\t 48\t 56\t 64\t 72\n",
      "\t 9\t 18\t 27\t 36\t 45\t 54\t 63\t 72\t 81\n"
     ]
    }
   ],
   "source": [
    "for a in range(1, 10):    #外部迴圈\n",
    "    for j in range(1, 10):     #內部迴圈\n",
    "        if j == 9:                #判斷j有沒有=9\n",
    "            print(\"\\t\", a*j)      #j == 9時換行\n",
    "        else:\n",
    "            print(\"\\t\", a*j, end = '')    #j < 9時，不換行\n",
    "            \n",
    "\n",
    "#\\t：使用的是制表符，讓輸出的結果對齊，保持格式整齊。 就是數字前面的空格\n",
    "#end=''：控制不換行，使每行的輸出保持在同一行中，直到 j == 9 才換行。"
   ]
  },
  {
   "cell_type": "markdown",
   "id": "48306cfc",
   "metadata": {},
   "source": [
    "# break與continue差別"
   ]
  },
  {
   "cell_type": "code",
   "execution_count": 1,
   "id": "237f112d",
   "metadata": {},
   "outputs": [
    {
     "name": "stdout",
     "output_type": "stream",
     "text": [
      "H\n",
      "e\n",
      "l\n",
      "l\n",
      "o\n",
      " \n",
      "w\n",
      "o\n",
      "r\n",
      "l\n",
      "d\n"
     ]
    }
   ],
   "source": [
    "for i in \"Hello world\":\n",
    "    print(i)"
   ]
  },
  {
   "cell_type": "code",
   "execution_count": 2,
   "id": "0c80451d",
   "metadata": {},
   "outputs": [
    {
     "name": "stdout",
     "output_type": "stream",
     "text": [
      "Hello world"
     ]
    }
   ],
   "source": [
    "for i in \"Hello world\":\n",
    "    print(i, end=\"\")"
   ]
  },
  {
   "cell_type": "code",
   "execution_count": 7,
   "id": "dbdad67e",
   "metadata": {},
   "outputs": [
    {
     "name": "stdout",
     "output_type": "stream",
     "text": [
      "H\n",
      "e\n",
      "l\n",
      "l\n"
     ]
    }
   ],
   "source": [
    "#break是當字串有東西=o時，後面的東西都不執行\n",
    "\n",
    "for i in \"Hello world\":\n",
    "    if i == \"o\":\n",
    "        break\n",
    "    print(i)"
   ]
  },
  {
   "cell_type": "code",
   "execution_count": 9,
   "id": "8fdeefcd",
   "metadata": {},
   "outputs": [
    {
     "name": "stdout",
     "output_type": "stream",
     "text": [
      "Hell"
     ]
    }
   ],
   "source": [
    "for i in \"Hello world\":\n",
    "    if i == \"o\":\n",
    "        break\n",
    "    print(i, end=\"\")"
   ]
  },
  {
   "cell_type": "code",
   "execution_count": 11,
   "id": "495fa645",
   "metadata": {},
   "outputs": [
    {
     "name": "stdout",
     "output_type": "stream",
     "text": [
      "H\n",
      "e\n",
      "l\n",
      "l\n",
      " \n",
      "w\n",
      "r\n",
      "l\n",
      "d\n"
     ]
    }
   ],
   "source": [
    "#continue是當字串有東西=o時，後面的東西都執行\n",
    "\n",
    "for i in \"Hello world\":\n",
    "    if i == \"o\":\n",
    "        continue\n",
    "    print(i)"
   ]
  },
  {
   "cell_type": "code",
   "execution_count": 13,
   "id": "cfdc7a89",
   "metadata": {},
   "outputs": [
    {
     "name": "stdout",
     "output_type": "stream",
     "text": [
      "H~e~l~l~ ~w~r~l~d~"
     ]
    }
   ],
   "source": [
    "for i in \"Hello world\":\n",
    "    if i == \"o\":\n",
    "        continue\n",
    "    print(i, end=\"~\")"
   ]
  },
  {
   "cell_type": "code",
   "execution_count": 14,
   "id": "1ec941b3",
   "metadata": {},
   "outputs": [],
   "source": [
    "# end=\"\" 的用意是將換行符號去掉，使輸出保持在同一行中\n",
    "# 其\"\"中間的東西可以自己設定"
   ]
  },
  {
   "cell_type": "markdown",
   "id": "23181d88",
   "metadata": {},
   "source": [
    "# while迴圈"
   ]
  },
  {
   "cell_type": "code",
   "execution_count": 21,
   "id": "1e394dc0",
   "metadata": {},
   "outputs": [
    {
     "name": "stdout",
     "output_type": "stream",
     "text": [
      "1 2 3 4 5 6 7 8 9 10 "
     ]
    }
   ],
   "source": [
    "#while迴圈需要先宣告初始值\n",
    "\n",
    "i = 1\n",
    "while i <= 10:             #當 i 小於或等於 10 時，繼續執行迴圈\n",
    "    print(i, end = \" \")    # 輸出 i，並在後面加上空格（而不是換行）\n",
    "    i = i + 1              # 每次重複執行後，i 加 1"
   ]
  },
  {
   "cell_type": "markdown",
   "id": "252af28a",
   "metadata": {},
   "source": [
    "# for迴圈"
   ]
  },
  {
   "cell_type": "code",
   "execution_count": 19,
   "id": "85ab17ca",
   "metadata": {},
   "outputs": [
    {
     "name": "stdout",
     "output_type": "stream",
     "text": [
      "1 2 3 4 5 6 7 8 9 10 "
     ]
    }
   ],
   "source": [
    "for e in range(1, 11):\n",
    "    print(e, end = \" \")"
   ]
  },
  {
   "cell_type": "code",
   "execution_count": 20,
   "id": "8695125b",
   "metadata": {},
   "outputs": [
    {
     "name": "stdout",
     "output_type": "stream",
     "text": [
      "55 "
     ]
    }
   ],
   "source": [
    "#while迴圈需要先宣告初始值\n",
    "#用while迴圈寫1到10的和，並將每次累加之後的值列出來\n",
    "\n",
    "sum = 0                  # 初始化變數 sum，起始值為 0，用來存儲總和\n",
    "i = 1                    # 初始化變數 i，起始值為 1，用來控制迴圈\n",
    "while i <= 10:           # 當 i 小於或等於 10 時，執行迴圈，當 i 超過 10 時，迴圈會停止\n",
    "    sum = sum + i        # 將當前的 i 值加到 sum 上\n",
    "    i = i + 1            # 每次迭代後，i 加 1\n",
    "print(sum, end = \" \")    # 最後輸出 sum，並且不換行"
   ]
  },
  {
   "cell_type": "code",
   "execution_count": 22,
   "id": "ba8b535a",
   "metadata": {},
   "outputs": [
    {
     "name": "stdout",
     "output_type": "stream",
     "text": [
      "0 1 2 3 4 5 "
     ]
    }
   ],
   "source": [
    "list_b = [0, 1, 2, 3, 4, 5]\n",
    "i = 0\n",
    "while 1:\n",
    "    print(list_b[i], end = \" \")\n",
    "    i = i + 1\n",
    "    if i == len(list_b):\n",
    "        break"
   ]
  },
  {
   "cell_type": "code",
   "execution_count": 24,
   "id": "f0ac019c",
   "metadata": {},
   "outputs": [
    {
     "name": "stdout",
     "output_type": "stream",
     "text": [
      "1 2 3 5 6 7 8 9 10 "
     ]
    }
   ],
   "source": [
    "i = 0\n",
    "while i < 10:\n",
    "    i = i + 1\n",
    "    if i == 4:\n",
    "        continue    #利用continue跳過4\n",
    "    print(i, end=\" \")"
   ]
  },
  {
   "cell_type": "code",
   "execution_count": 25,
   "id": "eae0f35d",
   "metadata": {},
   "outputs": [
    {
     "name": "stdout",
     "output_type": "stream",
     "text": [
      "1 2 3 "
     ]
    }
   ],
   "source": [
    "i = 0\n",
    "while i < 10:\n",
    "    i = i + 1\n",
    "    if i == 4:\n",
    "        break    #利用continue跳過4\n",
    "    print(i, end=\" \")"
   ]
  },
  {
   "cell_type": "code",
   "execution_count": 27,
   "id": "25eb4419",
   "metadata": {},
   "outputs": [
    {
     "name": "stdout",
     "output_type": "stream",
     "text": [
      "0 1 2 3 4 5 "
     ]
    }
   ],
   "source": [
    "list_a = [0, 1, 2, 3, 4, 5]\n",
    "for i in list_a:\n",
    "    print(i, end = \" \")"
   ]
  },
  {
   "cell_type": "code",
   "execution_count": 32,
   "id": "e1e5bc34",
   "metadata": {},
   "outputs": [
    {
     "name": "stdout",
     "output_type": "stream",
     "text": [
      "['John', 'Paul', 'Ringo', 'George']\n",
      "4\n"
     ]
    }
   ],
   "source": [
    "thebeats = [\"John\", \"Paul\", \"Ringo\", \"George\"]\n",
    "\n",
    "print(thebeats)\n",
    "print(len(thebeats))"
   ]
  },
  {
   "cell_type": "code",
   "execution_count": 33,
   "id": "ae64ff24",
   "metadata": {},
   "outputs": [
    {
     "name": "stdout",
     "output_type": "stream",
     "text": [
      "Paul\n"
     ]
    }
   ],
   "source": [
    "#從0到4\n",
    "\n",
    "print(thebeats[1])"
   ]
  },
  {
   "cell_type": "code",
   "execution_count": 34,
   "id": "6cc60f01",
   "metadata": {},
   "outputs": [
    {
     "name": "stdout",
     "output_type": "stream",
     "text": [
      "John Paul Ringo George "
     ]
    }
   ],
   "source": [
    "for i in thebeats:\n",
    "    print(i, end = \" \")"
   ]
  },
  {
   "cell_type": "code",
   "execution_count": 35,
   "id": "acd1545d",
   "metadata": {},
   "outputs": [
    {
     "name": "stdout",
     "output_type": "stream",
     "text": [
      "John Paul Ringo George "
     ]
    }
   ],
   "source": [
    "j = 0\n",
    "while j < 4:\n",
    "    print(thebeats[j], end = \" \")\n",
    "    j = j + 1"
   ]
  },
  {
   "cell_type": "code",
   "execution_count": 36,
   "id": "5fe29f5f",
   "metadata": {},
   "outputs": [
    {
     "data": {
      "text/plain": [
       "'George'"
      ]
     },
     "execution_count": 36,
     "metadata": {},
     "output_type": "execute_result"
    }
   ],
   "source": [
    "thebeats[3]"
   ]
  },
  {
   "cell_type": "code",
   "execution_count": null,
   "id": "27eb764b",
   "metadata": {},
   "outputs": [],
   "source": []
  }
 ],
 "metadata": {
  "kernelspec": {
   "display_name": "Python 3 (ipykernel)",
   "language": "python",
   "name": "python3"
  },
  "language_info": {
   "codemirror_mode": {
    "name": "ipython",
    "version": 3
   },
   "file_extension": ".py",
   "mimetype": "text/x-python",
   "name": "python",
   "nbconvert_exporter": "python",
   "pygments_lexer": "ipython3",
   "version": "3.11.5"
  }
 },
 "nbformat": 4,
 "nbformat_minor": 5
}
