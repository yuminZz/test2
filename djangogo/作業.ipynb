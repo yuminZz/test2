{
 "cells": [
  {
   "cell_type": "code",
   "execution_count": null,
   "id": "1d67c33c",
   "metadata": {},
   "outputs": [],
   "source": [
    "n = int(input(\"請輸入數字的數量：\"))\n",
    "\n",
    "# 創建一個空列表來存儲使用者輸入的數字\n",
    "a = []\n",
    "\n",
    "# 逐一讓使用者輸入數字，並加入列表\n",
    "for i in range(n):\n",
    "    num = int(input(f\"請輸入第 {i + 1} 個數字：\"))\n",
    "    numbers.append(num)\n",
    "\n",
    "# 列出使用者輸入的數字\n",
    "print(\"輸入的數字：\", numbers)\n",
    "\n",
    "# 排列由小到大\n",
    "numbers.sort()\n",
    "\n",
    "# 列出排序後的數字\n",
    "print(\"排序後：\", numbers)"
   ]
  },
  {
   "cell_type": "code",
   "execution_count": 1,
   "id": "9026d064",
   "metadata": {},
   "outputs": [
    {
     "name": "stdout",
     "output_type": "stream",
     "text": [
      "請輸入第一組數字，以空白分隔：9 34 85 93 85 90\n",
      "請輸入第二組數字，以空白分隔：56 7 13 42 90 45 67 89\n",
      "9 34 85 85 90 93\n",
      "7 13 42 45 56 67 89 90\n"
     ]
    }
   ],
   "source": [
    "# 第一次輸入數字並排序\n",
    "numbers1 = list(map(int, input(\"請輸入第一組數字，以空白分隔：\").split()))\n",
    "numbers1.sort()\n",
    "\n",
    "# 第二次輸入數字並排序\n",
    "numbers2 = list(map(int, input(\"請輸入第二組數字，以空白分隔：\").split()))\n",
    "numbers2.sort()\n",
    "\n",
    "# 依序印出兩行排序後的清單\n",
    "print(\" \".join(map(str, numbers1)))\n",
    "print(\" \".join(map(str, numbers2)))"
   ]
  },
  {
   "cell_type": "code",
   "execution_count": 3,
   "id": "76dc5927",
   "metadata": {},
   "outputs": [
    {
     "name": "stdout",
     "output_type": "stream",
     "text": [
      "請輸入數字的個數：6\n",
      "請輸入 6 個數字，以空白分隔：50 89 46 78 30 61\n",
      "輸入的數字：\n",
      "50 89 46 78 30 61\n",
      "排序後的數字：\n",
      "30 46 50 61 78 89\n",
      "\n",
      "請輸入數字的個數：8\n",
      "請輸入 8 個數字，以空白分隔：89 43 56 92 10 46 92 40\n",
      "輸入的數字：\n",
      "89 43 56 92 10 46 92 40\n",
      "排序後的數字：\n",
      "10 40 43 46 56 89 92 92\n",
      "\n"
     ]
    }
   ],
   "source": [
    "# 重複執行兩次\n",
    "for i in range(2):\n",
    "    # 使用者輸入數字的個數\n",
    "    n = int(input(\"請輸入數字的個數：\"))\n",
    "\n",
    "    # 使用者輸入 n 個數字，用空白分隔\n",
    "    numbers = list(map(int, input(f\"請輸入 {n} 個數字，以空白分隔：\").split()))\n",
    "\n",
    "    # 列出使用者輸入的數字\n",
    "    print(\"輸入的數字：\")\n",
    "    print(\" \".join(map(str, numbers)))\n",
    "\n",
    "    # 排列由小到大\n",
    "    numbers.sort()\n",
    "\n",
    "    # 列出排序後的數字\n",
    "    print(\"排序後的數字：\")\n",
    "    print(\" \".join(map(str, numbers)))\n",
    "    print()  # 空行分隔不同次的輸入結果"
   ]
  },
  {
   "cell_type": "code",
   "execution_count": 4,
   "id": "e0d38937",
   "metadata": {},
   "outputs": [
    {
     "name": "stdout",
     "output_type": "stream",
     "text": [
      "請輸入數字的個數：6\n",
      "請輸入 6 個數字，以空白分隔：4 90 43 74 10 23\n",
      "輸入的數字：\n",
      "4 90 43 74 10 23\n",
      "排序後的數字：\n",
      "4 10 23 43 74 90\n",
      "\n",
      "請輸入數字的個數：8\n",
      "請輸入 8 個數字，以空白分隔：90\n",
      "輸入的數字：\n",
      "90\n",
      "排序後的數字：\n",
      "90\n",
      "\n",
      "第 1 組排序後的清單：[4, 10, 23, 43, 74, 90]\n",
      "第 2 組排序後的清單：[90]\n"
     ]
    }
   ],
   "source": [
    "# 建立一個空列表來儲存每次的排序結果\n",
    "sorted_lists = []\n",
    "\n",
    "# 重複執行兩次\n",
    "for i in range(2):\n",
    "    # 使用者輸入數字的個數\n",
    "    n = int(input(\"請輸入數字的個數：\"))\n",
    "\n",
    "    # 使用者輸入 n 個數字，用空白分隔，使用列表生成式轉換為整數列表\n",
    "    numbers = [int(x) for x in input(f\"請輸入 {n} 個數字，以空白分隔：\").split()]\n",
    "\n",
    "    # 列出使用者輸入的數字\n",
    "    print(\"輸入的數字：\")\n",
    "    print(\" \".join(map(str, numbers)))\n",
    "\n",
    "    # 排列由小到大\n",
    "    numbers.sort()\n",
    "    sorted_lists.append(numbers)  # 將排序後的列表加入 sorted_lists\n",
    "\n",
    "    # 列出排序後的數字\n",
    "    print(\"排序後的數字：\")\n",
    "    print(\" \".join(map(str, numbers)))\n",
    "    print()  # 空行分隔不同次的輸入結果\n",
    "\n",
    "# 單獨列出每個排序後的清單\n",
    "for i, sorted_list in enumerate(sorted_lists, start=1):\n",
    "    print(f\"第 {i} 組排序後的清單：{sorted_list}\")"
   ]
  },
  {
   "cell_type": "code",
   "execution_count": 6,
   "id": "d5097d1d",
   "metadata": {},
   "outputs": [
    {
     "name": "stdout",
     "output_type": "stream",
     "text": [
      "請輸入要查詢的食物名稱：麵包\n"
     ]
    },
    {
     "ename": "NameError",
     "evalue": "name 'calories_dict' is not defined",
     "output_type": "error",
     "traceback": [
      "\u001b[1;31m---------------------------------------------------------------------------\u001b[0m",
      "\u001b[1;31mNameError\u001b[0m                                 Traceback (most recent call last)",
      "Cell \u001b[1;32mIn[6], line 13\u001b[0m\n\u001b[0;32m      2\u001b[0m dic_dict \u001b[38;5;241m=\u001b[39m {\n\u001b[0;32m      3\u001b[0m     \u001b[38;5;124m\"\u001b[39m\u001b[38;5;124m雞蛋\u001b[39m\u001b[38;5;124m\"\u001b[39m: \u001b[38;5;124m\"\u001b[39m\u001b[38;5;124m130大卡\u001b[39m\u001b[38;5;124m\"\u001b[39m,\n\u001b[0;32m      4\u001b[0m     \u001b[38;5;124m\"\u001b[39m\u001b[38;5;124m香蕉\u001b[39m\u001b[38;5;124m\"\u001b[39m: \u001b[38;5;124m\"\u001b[39m\u001b[38;5;124m89大卡\u001b[39m\u001b[38;5;124m\"\u001b[39m,\n\u001b[1;32m   (...)\u001b[0m\n\u001b[0;32m      7\u001b[0m     \u001b[38;5;124m\"\u001b[39m\u001b[38;5;124m一杯牛奶\u001b[39m\u001b[38;5;124m\"\u001b[39m: \u001b[38;5;124m\"\u001b[39m\u001b[38;5;124m100大卡\u001b[39m\u001b[38;5;124m\"\u001b[39m,\n\u001b[0;32m      8\u001b[0m     \u001b[38;5;124m\"\u001b[39m\u001b[38;5;124m一杯紅茶牛奶\u001b[39m\u001b[38;5;124m\"\u001b[39m: \u001b[38;5;124m\"\u001b[39m\u001b[38;5;124m200大卡\u001b[39m\u001b[38;5;124m\"\u001b[39m,}\n\u001b[0;32m     10\u001b[0m food \u001b[38;5;241m=\u001b[39m \u001b[38;5;28minput\u001b[39m(\u001b[38;5;124m\"\u001b[39m\u001b[38;5;124m請輸入要查詢的食物名稱：\u001b[39m\u001b[38;5;124m\"\u001b[39m)\u001b[38;5;241m.\u001b[39mstrip()\u001b[38;5;241m.\u001b[39mlower()     \u001b[38;5;66;03m#輸入食物名稱進行查詢\u001b[39;00m\n\u001b[1;32m---> 13\u001b[0m \u001b[38;5;28;01mif\u001b[39;00m food \u001b[38;5;129;01min\u001b[39;00m calories_dict:\n\u001b[0;32m     14\u001b[0m     \u001b[38;5;28mprint\u001b[39m(\u001b[38;5;124mf\u001b[39m\u001b[38;5;124m\"\u001b[39m\u001b[38;5;132;01m{\u001b[39;00mfood\u001b[38;5;132;01m}\u001b[39;00m\u001b[38;5;124m 的卡路里是：\u001b[39m\u001b[38;5;132;01m{\u001b[39;00mdic_dict[food]\u001b[38;5;132;01m}\u001b[39;00m\u001b[38;5;124m\"\u001b[39m)      \u001b[38;5;66;03m#查詢字典dic\u001b[39;00m\n\u001b[0;32m     15\u001b[0m \u001b[38;5;28;01melse\u001b[39;00m:\n",
      "\u001b[1;31mNameError\u001b[0m: name 'calories_dict' is not defined"
     ]
    }
   ],
   "source": [
    "# 建立食物與卡路里的字典\n",
    "dic_dict = {\n",
    "    \"雞蛋\": \"130大卡\",\n",
    "    \"香蕉\": \"89大卡\",\n",
    "    \"麵包\":\"300大卡\",\n",
    "    \"pizza\": \"4000大卡\",\n",
    "    \"一杯牛奶\": \"100大卡\",\n",
    "    \"一杯紅茶牛奶\": \"200大卡\",}\n",
    "\n",
    "food = input(\"請輸入要查詢的食物名稱：\").strip().lower()     #輸入食物名稱進行查詢\n",
    "\n",
    "\n",
    "if food in calories_dict:\n",
    "    print(f\"{food} 的卡路里是：{dic_dict[food]}\")      #查詢字典dic\n",
    "else:\n",
    "    print(\"wrong input\")"
   ]
  },
  {
   "cell_type": "code",
   "execution_count": 8,
   "id": "2997f72f",
   "metadata": {},
   "outputs": [
    {
     "name": "stdout",
     "output_type": "stream",
     "text": [
      "請輸入要查詢的食物名稱：香蕉\n",
      "香蕉 的卡路里是：89大卡\n"
     ]
    }
   ],
   "source": [
    "# 建立食物與卡路里的字典\n",
    "dic = {\n",
    "    \"雞蛋\": \"130大卡\",\n",
    "    \"香蕉\": \"89大卡\",\n",
    "    \"麵包\":\"300大卡\",\n",
    "    \"pizza\": \"4000大卡\",\n",
    "    \"一杯牛奶\": \"100大卡\",\n",
    "    \"一杯紅茶牛奶\": \"200大卡\",}\n",
    "\n",
    "food = input(\"請輸入要查詢的食物名稱：\").strip().lower()     #輸入食物名稱進行查詢\n",
    "\n",
    "\n",
    "if food in dic:\n",
    "    print(f\"{food} 的卡路里是：{dic[food]}\")      #查詢字典dic\n",
    "else:\n",
    "    print(\"wrong input\")"
   ]
  },
  {
   "cell_type": "code",
   "execution_count": null,
   "id": "ff1e3d48",
   "metadata": {},
   "outputs": [],
   "source": []
  }
 ],
 "metadata": {
  "kernelspec": {
   "display_name": "Python 3 (ipykernel)",
   "language": "python",
   "name": "python3"
  },
  "language_info": {
   "codemirror_mode": {
    "name": "ipython",
    "version": 3
   },
   "file_extension": ".py",
   "mimetype": "text/x-python",
   "name": "python",
   "nbconvert_exporter": "python",
   "pygments_lexer": "ipython3",
   "version": "3.11.5"
  }
 },
 "nbformat": 4,
 "nbformat_minor": 5
}
