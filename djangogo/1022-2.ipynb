{
 "cells": [
  {
   "cell_type": "markdown",
   "id": "fd3f3920",
   "metadata": {},
   "source": [
    "# 排字母順序 排字母、大小寫"
   ]
  },
  {
   "cell_type": "code",
   "execution_count": 5,
   "id": "da37f132",
   "metadata": {},
   "outputs": [],
   "source": [
    "oops = [\"book\", \"coin\", \"bus\", \"greece\"]"
   ]
  },
  {
   "cell_type": "code",
   "execution_count": 6,
   "id": "ab063cc3",
   "metadata": {},
   "outputs": [
    {
     "name": "stdout",
     "output_type": "stream",
     "text": [
      "['book', 'bus', 'coin', 'greece']\n"
     ]
    }
   ],
   "source": [
    "oops.sort()\n",
    "\n",
    "print(oops)"
   ]
  },
  {
   "cell_type": "code",
   "execution_count": 7,
   "id": "e9cb541a",
   "metadata": {},
   "outputs": [
    {
     "name": "stdout",
     "output_type": "stream",
     "text": [
      "['greece', 'coin', 'bus', 'book']\n"
     ]
    }
   ],
   "source": [
    "#排列顛倒\n",
    "\n",
    "oops.sort(reverse=True)\n",
    "print(oops)"
   ]
  },
  {
   "cell_type": "code",
   "execution_count": 8,
   "id": "d6062fd8",
   "metadata": {},
   "outputs": [
    {
     "name": "stdout",
     "output_type": "stream",
     "text": [
      "['greece', 'coin', 'bus', 'book']\n",
      "['book', 'bus', 'coin', 'greece']\n"
     ]
    }
   ],
   "source": [
    "sorted_list = sorted(oops)\n",
    "print(oops)\n",
    "print(sorted_list)"
   ]
  },
  {
   "cell_type": "code",
   "execution_count": 9,
   "id": "bc274d70",
   "metadata": {},
   "outputs": [
    {
     "name": "stdout",
     "output_type": "stream",
     "text": [
      "['book', 'bus', 'coin', 'greece']\n"
     ]
    }
   ],
   "source": [
    "oops.reverse()\n",
    "print(oops)"
   ]
  },
  {
   "cell_type": "code",
   "execution_count": 10,
   "id": "16955dd8",
   "metadata": {},
   "outputs": [
    {
     "name": "stdout",
     "output_type": "stream",
     "text": [
      "4\n",
      "53\n",
      "126\n"
     ]
    }
   ],
   "source": [
    "num = [23, 4, 53, 5, 35, 6]\n",
    "\n",
    "print(min(num))\n",
    "print(max(num))\n",
    "print(sum(num))"
   ]
  },
  {
   "cell_type": "code",
   "execution_count": 11,
   "id": "fb5f1ac2",
   "metadata": {},
   "outputs": [
    {
     "name": "stdout",
     "output_type": "stream",
     "text": [
      "greece\n"
     ]
    }
   ],
   "source": [
    "print(max(oops))\n",
    "#字母最後面"
   ]
  },
  {
   "cell_type": "code",
   "execution_count": 12,
   "id": "2c1ddb26",
   "metadata": {},
   "outputs": [
    {
     "data": {
      "text/plain": [
       "1"
      ]
     },
     "execution_count": 12,
     "metadata": {},
     "output_type": "execute_result"
    }
   ],
   "source": [
    "oops.index(\"bus\")"
   ]
  },
  {
   "cell_type": "code",
   "execution_count": 13,
   "id": "b3723e89",
   "metadata": {},
   "outputs": [
    {
     "ename": "ValueError",
     "evalue": "'ccat' is not in list",
     "output_type": "error",
     "traceback": [
      "\u001b[1;31m---------------------------------------------------------------------------\u001b[0m",
      "\u001b[1;31mValueError\u001b[0m                                Traceback (most recent call last)",
      "Cell \u001b[1;32mIn[13], line 3\u001b[0m\n\u001b[0;32m      1\u001b[0m \u001b[38;5;66;03m#沒有出現在list的\u001b[39;00m\n\u001b[1;32m----> 3\u001b[0m oops\u001b[38;5;241m.\u001b[39mindex(\u001b[38;5;124m\"\u001b[39m\u001b[38;5;124mccat\u001b[39m\u001b[38;5;124m\"\u001b[39m)\n",
      "\u001b[1;31mValueError\u001b[0m: 'ccat' is not in list"
     ]
    }
   ],
   "source": [
    "#沒有出現在list的\n",
    "\n",
    "oops.index(\"ccat\")"
   ]
  },
  {
   "cell_type": "code",
   "execution_count": 14,
   "id": "363713d6",
   "metadata": {},
   "outputs": [
    {
     "name": "stdout",
     "output_type": "stream",
     "text": [
      "True\n",
      "False\n"
     ]
    }
   ],
   "source": [
    "#判斷有無在list裡面\n",
    "\n",
    "print(\"bus\" in oops)\n",
    "print(\"woman\" in oops)"
   ]
  },
  {
   "cell_type": "markdown",
   "id": "24574981",
   "metadata": {},
   "source": [
    "# for迴圈"
   ]
  },
  {
   "cell_type": "code",
   "execution_count": 15,
   "id": "c82eb99a",
   "metadata": {},
   "outputs": [
    {
     "name": "stdout",
     "output_type": "stream",
     "text": [
      "book\n",
      "bus\n",
      "coin\n",
      "greece\n"
     ]
    }
   ],
   "source": [
    "for i in oops:\n",
    "    print(i)"
   ]
  },
  {
   "cell_type": "markdown",
   "id": "88aa55e8",
   "metadata": {},
   "source": [
    "# enumerate"
   ]
  },
  {
   "cell_type": "code",
   "execution_count": 16,
   "id": "e3ffc903",
   "metadata": {},
   "outputs": [
    {
     "name": "stdout",
     "output_type": "stream",
     "text": [
      "0 book\n",
      "1 bus\n",
      "2 coin\n",
      "3 greece\n"
     ]
    }
   ],
   "source": [
    "for i, j in enumerate(oops):\n",
    "    print(i, j)"
   ]
  },
  {
   "cell_type": "code",
   "execution_count": 17,
   "id": "bd2783fc",
   "metadata": {},
   "outputs": [
    {
     "name": "stdout",
     "output_type": "stream",
     "text": [
      "(0, 'book')\n",
      "(1, 'bus')\n",
      "(2, 'coin')\n",
      "(3, 'greece')\n"
     ]
    }
   ],
   "source": [
    "for item in enumerate(oops):\n",
    "    print(item)"
   ]
  },
  {
   "cell_type": "code",
   "execution_count": 18,
   "id": "e0a34195",
   "metadata": {},
   "outputs": [
    {
     "name": "stdout",
     "output_type": "stream",
     "text": [
      "['book', 'bus', 'coin', 'greece']\n"
     ]
    }
   ],
   "source": [
    "# 合併\n",
    "\n",
    "print(oops)"
   ]
  },
  {
   "cell_type": "code",
   "execution_count": 20,
   "id": "7b3214c0",
   "metadata": {},
   "outputs": [
    {
     "name": "stdout",
     "output_type": "stream",
     "text": [
      "book/bus/coin/greece\n"
     ]
    }
   ],
   "source": [
    "oops_str = \"/\".join(oops)\n",
    "print(oops_str)"
   ]
  },
  {
   "cell_type": "code",
   "execution_count": null,
   "id": "d8148621",
   "metadata": {},
   "outputs": [],
   "source": []
  }
 ],
 "metadata": {
  "kernelspec": {
   "display_name": "Python 3 (ipykernel)",
   "language": "python",
   "name": "python3"
  },
  "language_info": {
   "codemirror_mode": {
    "name": "ipython",
    "version": 3
   },
   "file_extension": ".py",
   "mimetype": "text/x-python",
   "name": "python",
   "nbconvert_exporter": "python",
   "pygments_lexer": "ipython3",
   "version": "3.11.5"
  }
 },
 "nbformat": 4,
 "nbformat_minor": 5
}
