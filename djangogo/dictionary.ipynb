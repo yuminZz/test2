{
 "cells": [
  {
   "cell_type": "code",
   "execution_count": 5,
   "id": "918bf0cc",
   "metadata": {},
   "outputs": [],
   "source": [
    "#寫一個判斷閏年的函式\n",
    "#公元年分/4不可整除為平年\n",
    "#公元年分/100可整除，但/400不可整除為平年\n",
    "#公元年分/4可整除，但/100不可整除為閏年\n",
    "\n",
    "#閏年是4的倍數而不是100和400的倍數\n",
    "\n",
    "def check_leap_year(year):\n",
    "    if(year % 400 == 0) or (year % 100 != 0 and year % 4 == 0):\n",
    "        print(\"閏年\")\n",
    "    else:\n",
    "        print(\"平年\")"
   ]
  },
  {
   "cell_type": "code",
   "execution_count": 6,
   "id": "94560dff",
   "metadata": {},
   "outputs": [
    {
     "name": "stdout",
     "output_type": "stream",
     "text": [
      "輸入年分: 2029\n"
     ]
    }
   ],
   "source": [
    "x = int(input(\"輸入年分: \"))"
   ]
  },
  {
   "cell_type": "code",
   "execution_count": 7,
   "id": "be4d5676",
   "metadata": {},
   "outputs": [
    {
     "name": "stdout",
     "output_type": "stream",
     "text": [
      "平年\n"
     ]
    }
   ],
   "source": [
    "check_leap_year(x)"
   ]
  },
  {
   "cell_type": "code",
   "execution_count": 8,
   "id": "c8ad83d2",
   "metadata": {},
   "outputs": [],
   "source": [
    "def check_leap_year(year):\n",
    "    if(year % 400 == 0) or (year % 100 != 0 and year % 4 == 0):\n",
    "        print(\"閏年\")\n",
    "    else:\n",
    "        #print(\"平年\")\n",
    "        return False"
   ]
  },
  {
   "cell_type": "code",
   "execution_count": 9,
   "id": "54efc203",
   "metadata": {},
   "outputs": [
    {
     "name": "stdout",
     "output_type": "stream",
     "text": [
      "輸入年分: 2029\n"
     ]
    }
   ],
   "source": [
    "x = int(input(\"輸入年分: \"))"
   ]
  },
  {
   "cell_type": "code",
   "execution_count": 10,
   "id": "f0511c34",
   "metadata": {},
   "outputs": [
    {
     "data": {
      "text/plain": [
       "False"
      ]
     },
     "execution_count": 10,
     "metadata": {},
     "output_type": "execute_result"
    }
   ],
   "source": [
    "check_leap_year(x)"
   ]
  },
  {
   "cell_type": "markdown",
   "id": "a22dee1a",
   "metadata": {},
   "source": [
    "# 儲存return的結果 return真正的用意"
   ]
  },
  {
   "cell_type": "code",
   "execution_count": 11,
   "id": "87690bd4",
   "metadata": {},
   "outputs": [],
   "source": [
    "leap = check_leap_year(x)"
   ]
  },
  {
   "cell_type": "code",
   "execution_count": 12,
   "id": "d3752264",
   "metadata": {},
   "outputs": [
    {
     "name": "stdout",
     "output_type": "stream",
     "text": [
      "False\n"
     ]
    }
   ],
   "source": [
    "print(leap)"
   ]
  },
  {
   "cell_type": "code",
   "execution_count": 13,
   "id": "81ff4e2d",
   "metadata": {},
   "outputs": [],
   "source": [
    "def check_leap_year(year):\n",
    "    if(year % 400 == 0) or (year % 100 != 0 and year % 4 == 0):\n",
    "        print(\"閏年\")\n",
    "    else:\n",
    "        #print(\"平年\")\n",
    "        return False, \"平年\""
   ]
  },
  {
   "cell_type": "code",
   "execution_count": 15,
   "id": "243ea313",
   "metadata": {},
   "outputs": [
    {
     "name": "stdout",
     "output_type": "stream",
     "text": [
      "輸入年分: 2039\n"
     ]
    }
   ],
   "source": [
    "f = int(input(\"輸入年分: \"))"
   ]
  },
  {
   "cell_type": "code",
   "execution_count": 16,
   "id": "aca4a810",
   "metadata": {},
   "outputs": [],
   "source": [
    "leap, e = check_leap_year(f)"
   ]
  },
  {
   "cell_type": "code",
   "execution_count": 17,
   "id": "ff60f8be",
   "metadata": {},
   "outputs": [
    {
     "name": "stdout",
     "output_type": "stream",
     "text": [
      "False 平年\n"
     ]
    }
   ],
   "source": [
    "print(leap, e)"
   ]
  },
  {
   "cell_type": "markdown",
   "id": "3ef89348",
   "metadata": {},
   "source": [
    "# Dictionary"
   ]
  },
  {
   "cell_type": "code",
   "execution_count": 18,
   "id": "eb1a8a5b",
   "metadata": {},
   "outputs": [],
   "source": [
    "movie = {'adpot':'領養', 'year':'2020', 'director':'bob', 'stars':'coco'}"
   ]
  },
  {
   "cell_type": "code",
   "execution_count": 19,
   "id": "92f9cdca",
   "metadata": {},
   "outputs": [
    {
     "name": "stdout",
     "output_type": "stream",
     "text": [
      "{'adpot': '領養', 'year': '2020', 'director': 'bob', 'stars': 'coco'}\n"
     ]
    }
   ],
   "source": [
    "print(movie)"
   ]
  },
  {
   "cell_type": "code",
   "execution_count": 21,
   "id": "6af4ab61",
   "metadata": {},
   "outputs": [
    {
     "name": "stdout",
     "output_type": "stream",
     "text": [
      "領養\n"
     ]
    }
   ],
   "source": [
    "print(movie['adpot'])"
   ]
  },
  {
   "cell_type": "code",
   "execution_count": 24,
   "id": "976874d9",
   "metadata": {},
   "outputs": [],
   "source": [
    "movie1 = {'name':'名字', 'year':'2020', 'director':'bob', 'stars':'coco'}\n",
    "movie2 = dict(name = 'breakfast', year = '2019', director = 'horse', stars = 'baekhyun')"
   ]
  },
  {
   "cell_type": "code",
   "execution_count": 27,
   "id": "9a86a085",
   "metadata": {},
   "outputs": [
    {
     "name": "stdout",
     "output_type": "stream",
     "text": [
      "名字\n",
      "breakfast\n"
     ]
    }
   ],
   "source": [
    "print(movie1['name'])\n",
    "print(movie2['name'])"
   ]
  },
  {
   "cell_type": "code",
   "execution_count": 32,
   "id": "5b444f58",
   "metadata": {},
   "outputs": [],
   "source": [
    "# .get\n",
    "# 要用小括弧"
   ]
  },
  {
   "cell_type": "code",
   "execution_count": 34,
   "id": "5f50ed31",
   "metadata": {},
   "outputs": [
    {
     "name": "stdout",
     "output_type": "stream",
     "text": [
      "None\n"
     ]
    }
   ],
   "source": [
    "print(movie1.get('wonwoo'))"
   ]
  },
  {
   "cell_type": "code",
   "execution_count": 35,
   "id": "38cf89c5",
   "metadata": {},
   "outputs": [],
   "source": [
    "#增加"
   ]
  },
  {
   "cell_type": "code",
   "execution_count": 36,
   "id": "acae5e26",
   "metadata": {},
   "outputs": [],
   "source": [
    "movie1['joe'] = 'emma'"
   ]
  },
  {
   "cell_type": "code",
   "execution_count": 37,
   "id": "8ed0b6e4",
   "metadata": {},
   "outputs": [
    {
     "name": "stdout",
     "output_type": "stream",
     "text": [
      "{'name': '名字', 'year': '2020', 'director': 'bob', 'stars': 'coco', 'joe': 'emma'}\n"
     ]
    }
   ],
   "source": [
    "print(movie1)"
   ]
  },
  {
   "cell_type": "code",
   "execution_count": 38,
   "id": "075b87a0",
   "metadata": {},
   "outputs": [],
   "source": [
    "#刪除 第一種"
   ]
  },
  {
   "cell_type": "code",
   "execution_count": 39,
   "id": "76e2b281",
   "metadata": {},
   "outputs": [
    {
     "name": "stdout",
     "output_type": "stream",
     "text": [
      "{'name': '名字', 'year': '2020', 'director': 'bob', 'stars': 'coco'}\n"
     ]
    }
   ],
   "source": [
    "del movie1['joe']\n",
    "print(movie1)"
   ]
  },
  {
   "cell_type": "code",
   "execution_count": 40,
   "id": "aa873c0e",
   "metadata": {},
   "outputs": [],
   "source": [
    "#刪除 第二種 pop，刪除後還可以回傳，要用小括弧"
   ]
  },
  {
   "cell_type": "code",
   "execution_count": 41,
   "id": "4702ba03",
   "metadata": {},
   "outputs": [],
   "source": [
    "movie1['joe'] = 'lol'"
   ]
  },
  {
   "cell_type": "code",
   "execution_count": 42,
   "id": "2ab4929e",
   "metadata": {},
   "outputs": [
    {
     "name": "stdout",
     "output_type": "stream",
     "text": [
      "{'name': '名字', 'year': '2020', 'director': 'bob', 'stars': 'coco', 'joe': 'lol'}\n"
     ]
    }
   ],
   "source": [
    "print(movie1)"
   ]
  },
  {
   "cell_type": "code",
   "execution_count": 44,
   "id": "b705a0cd",
   "metadata": {},
   "outputs": [],
   "source": [
    "joe = movie1.pop('joe')"
   ]
  },
  {
   "cell_type": "code",
   "execution_count": 45,
   "id": "298daf9e",
   "metadata": {},
   "outputs": [
    {
     "name": "stdout",
     "output_type": "stream",
     "text": [
      "{'name': '名字', 'year': '2020', 'director': 'bob', 'stars': 'coco'}\n"
     ]
    }
   ],
   "source": [
    "print(movie1)"
   ]
  },
  {
   "cell_type": "code",
   "execution_count": 47,
   "id": "41ba70d3",
   "metadata": {},
   "outputs": [
    {
     "name": "stdout",
     "output_type": "stream",
     "text": [
      "lol\n"
     ]
    }
   ],
   "source": [
    "print(joe)"
   ]
  },
  {
   "cell_type": "code",
   "execution_count": 48,
   "id": "50a07d55",
   "metadata": {},
   "outputs": [
    {
     "data": {
      "text/plain": [
       "4"
      ]
     },
     "execution_count": 48,
     "metadata": {},
     "output_type": "execute_result"
    }
   ],
   "source": [
    "len(movie1)"
   ]
  },
  {
   "cell_type": "code",
   "execution_count": 50,
   "id": "714894e4",
   "metadata": {},
   "outputs": [
    {
     "name": "stdout",
     "output_type": "stream",
     "text": [
      "dict_keys(['name', 'year', 'director', 'stars'])\n"
     ]
    }
   ],
   "source": [
    "print(movie1.keys())"
   ]
  },
  {
   "cell_type": "code",
   "execution_count": 51,
   "id": "14e196c3",
   "metadata": {},
   "outputs": [
    {
     "name": "stdout",
     "output_type": "stream",
     "text": [
      "dict_values(['名字', '2020', 'bob', 'coco'])\n"
     ]
    }
   ],
   "source": [
    "print(movie1.values())"
   ]
  },
  {
   "cell_type": "code",
   "execution_count": 52,
   "id": "e642b3b7",
   "metadata": {},
   "outputs": [],
   "source": [
    "#同時出現key值跟value值"
   ]
  },
  {
   "cell_type": "code",
   "execution_count": 53,
   "id": "ccf59c45",
   "metadata": {},
   "outputs": [
    {
     "name": "stdout",
     "output_type": "stream",
     "text": [
      "dict_items([('name', '名字'), ('year', '2020'), ('director', 'bob'), ('stars', 'coco')])\n"
     ]
    }
   ],
   "source": [
    "print(movie1.items())"
   ]
  },
  {
   "cell_type": "code",
   "execution_count": 54,
   "id": "4603b059",
   "metadata": {},
   "outputs": [
    {
     "name": "stdout",
     "output_type": "stream",
     "text": [
      "True\n"
     ]
    }
   ],
   "source": [
    "# 只能查key值\n",
    "\n",
    "print('year' in movie1)"
   ]
  },
  {
   "cell_type": "code",
   "execution_count": 55,
   "id": "2d968cbf",
   "metadata": {},
   "outputs": [
    {
     "name": "stdout",
     "output_type": "stream",
     "text": [
      "False\n"
     ]
    }
   ],
   "source": [
    "movie1 = {'name':'名字', 'year':'2020', 'director':'bob', 'stars':'coco'}\n",
    "movie2 = dict(name = 'breakfast', year = '2019', director = 'horse', stars = 'baekhyun')\n",
    "\n",
    "print(movie1 == movie2)"
   ]
  },
  {
   "cell_type": "code",
   "execution_count": 56,
   "id": "c8a3e887",
   "metadata": {},
   "outputs": [
    {
     "name": "stdout",
     "output_type": "stream",
     "text": [
      "True\n"
     ]
    }
   ],
   "source": [
    "print(movie1 != movie2)"
   ]
  },
  {
   "cell_type": "code",
   "execution_count": 57,
   "id": "7f2f8803",
   "metadata": {},
   "outputs": [
    {
     "name": "stdout",
     "output_type": "stream",
     "text": [
      "True\n"
     ]
    }
   ],
   "source": [
    "movie3 = {'stars':'coco', 'director':'bob', 'year':'2020', 'name':'名字'}\n",
    "\n",
    "print(movie1 == movie3)"
   ]
  },
  {
   "cell_type": "code",
   "execution_count": 59,
   "id": "32471ca7",
   "metadata": {},
   "outputs": [
    {
     "name": "stdout",
     "output_type": "stream",
     "text": [
      "stars coco\n",
      "director bob\n",
      "year 2020\n",
      "name 名字\n"
     ]
    }
   ],
   "source": [
    "for a, b in movie3.items():\n",
    "    print(a, b)"
   ]
  },
  {
   "cell_type": "code",
   "execution_count": 60,
   "id": "c9ad859e",
   "metadata": {},
   "outputs": [
    {
     "name": "stdout",
     "output_type": "stream",
     "text": [
      "coco\n",
      "bob\n",
      "2020\n",
      "名字\n"
     ]
    }
   ],
   "source": [
    "for c in movie3.values():\n",
    "    print(c)"
   ]
  },
  {
   "cell_type": "code",
   "execution_count": 61,
   "id": "3ce20d79",
   "metadata": {},
   "outputs": [],
   "source": [
    "dict_squares = {}"
   ]
  },
  {
   "cell_type": "code",
   "execution_count": 63,
   "id": "7760419e",
   "metadata": {},
   "outputs": [
    {
     "name": "stdout",
     "output_type": "stream",
     "text": [
      "{0: 0, 1: 1, 2: 4, 3: 9, 4: 16, 5: 25}\n"
     ]
    }
   ],
   "source": [
    "for i in range(6):\n",
    "    dict_squares[i] = i**2\n",
    "print(dict_squares)"
   ]
  },
  {
   "cell_type": "code",
   "execution_count": null,
   "id": "148d5c47",
   "metadata": {},
   "outputs": [],
   "source": []
  }
 ],
 "metadata": {
  "kernelspec": {
   "display_name": "Python 3 (ipykernel)",
   "language": "python",
   "name": "python3"
  },
  "language_info": {
   "codemirror_mode": {
    "name": "ipython",
    "version": 3
   },
   "file_extension": ".py",
   "mimetype": "text/x-python",
   "name": "python",
   "nbconvert_exporter": "python",
   "pygments_lexer": "ipython3",
   "version": "3.11.5"
  }
 },
 "nbformat": 4,
 "nbformat_minor": 5
}
